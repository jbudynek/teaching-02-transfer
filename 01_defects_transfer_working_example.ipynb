{
 "cells": [
  {
   "cell_type": "markdown",
   "id": "82f7f052",
   "metadata": {},
   "source": [
    "This notebook is an illustration of transfer learning. It uses:\n",
    "- a pre-trained Model from Keras (Xception)\n",
    "- a dataset of casting products, some of which have a defect\n",
    "Then it adds a simple classification layer to the pre-trained model, and trains it with the pictures.\n",
    "\n",
    "The code is adapted from: \n",
    "- Keras tutorial https://keras.io/guides/transfer_learning/\n",
    "- Kaggle tutorial https://www.kaggle.com/code/digantdixit/transfer-learning-cnn-for-beginners"
   ]
  },
  {
   "cell_type": "code",
   "execution_count": 1,
   "id": "eb339a56-2fd9-446c-ae8d-cbeec6b97d3c",
   "metadata": {},
   "outputs": [],
   "source": [
    "import numpy as np\n",
    "import pandas as pd\n",
    "import matplotlib.pyplot as plt\n",
    "import keras, os\n",
    "from keras.layers import Conv2D, MaxPool2D, Dropout, Flatten, Dense\n",
    "from keras.preprocessing import image\n",
    "from keras.models import Sequential"
   ]
  },
  {
   "cell_type": "code",
   "execution_count": 3,
   "id": "d433c407-e59a-4190-9bb2-c925fe369397",
   "metadata": {},
   "outputs": [
    {
     "name": "stdout",
     "output_type": "stream",
     "text": [
      "Found 1041 images belonging to 2 classes.\n",
      "Found 259 images belonging to 2 classes.\n"
     ]
    }
   ],
   "source": [
    "train_data_gen = image.ImageDataGenerator(rescale=1.0 / 255, validation_split=0.2)\n",
    "train = train_data_gen.flow_from_directory(\n",
    "    directory=\"casting_512x512/\",\n",
    "    target_size=(256, 256),\n",
    "    batch_size=32,\n",
    "    class_mode=\"binary\",\n",
    "    subset=\"training\",\n",
    ")\n",
    "test = train_data_gen.flow_from_directory(\n",
    "    directory=\"casting_512x512/\",\n",
    "    target_size=(256, 256),\n",
    "    batch_size=32,\n",
    "    class_mode=\"binary\",\n",
    "    subset=\"validation\",\n",
    ")"
   ]
  },
  {
   "cell_type": "code",
   "execution_count": 4,
   "id": "aa613637-adb0-4a4b-8c68-e7de6d9213a8",
   "metadata": {},
   "outputs": [
    {
     "name": "stdout",
     "output_type": "stream",
     "text": [
      "{'def_front': 0, 'ok_front': 1}\n",
      "{'def_front': 0, 'ok_front': 1}\n"
     ]
    }
   ],
   "source": [
    "print(train.class_indices)\n",
    "print(test.class_indices)"
   ]
  },
  {
   "cell_type": "code",
   "execution_count": 5,
   "id": "a3ace5a9-7731-4c38-8ee5-bb9a211a0fe3",
   "metadata": {},
   "outputs": [],
   "source": [
    "from tensorflow.keras.applications import Xception\n",
    "\n",
    "xcept = Xception(input_shape=(256, 256, 3), include_top=False, weights=\"imagenet\")"
   ]
  },
  {
   "cell_type": "code",
   "execution_count": 6,
   "id": "3207e4f0",
   "metadata": {},
   "outputs": [],
   "source": [
    "# Alternative code to build the transfer model, adapted from Kaggle\n",
    "# for layer in xcept.layers:\n",
    "#    layer.trainable = False\n",
    "# model=keras.Sequential([\n",
    "#    xcept,\n",
    "#    keras.layers.Flatten(),\n",
    "#    keras.layers.Dense(units=256, activation=\"relu\"),\n",
    "#    keras.layers.Dropout(0.2),\n",
    "#    keras.layers.Dense(units=1, activation=\"sigmoid\"),\n",
    "# ])\n",
    "\n",
    "# model.compile(optimizer=\"adam\",loss='binary_crossentropy',metrics=['accuracy'])"
   ]
  },
  {
   "cell_type": "code",
   "execution_count": 7,
   "id": "03acf809-387b-4542-9f8f-887b426a07cf",
   "metadata": {},
   "outputs": [],
   "source": [
    "# Adapted code from Keras transfer learning tutorial\n",
    "xcept.trainable = False\n",
    "inputs = keras.Input(shape=(256, 256, 3))\n",
    "# We make sure that the base_model is running in inference mode here,\n",
    "# by passing `training=False`.\n",
    "x = xcept(inputs, training=False)\n",
    "# Convert features of shape `base_model.output_shape[1:]` to vectors\n",
    "x = keras.layers.GlobalAveragePooling2D()(x)\n",
    "# A Dense classifier with a single unit (binary classification)\n",
    "outputs = keras.layers.Dense(1)(x)\n",
    "model = keras.Model(inputs, outputs)\n",
    "model.compile(\n",
    "    optimizer=keras.optimizers.Adam(),\n",
    "    loss=keras.losses.BinaryCrossentropy(from_logits=True),\n",
    "    metrics=[\"accuracy\"],\n",
    ")"
   ]
  },
  {
   "cell_type": "code",
   "execution_count": 8,
   "id": "dea8fcc5-4e26-49f8-bc07-8ec2d90e8739",
   "metadata": {},
   "outputs": [
    {
     "name": "stdout",
     "output_type": "stream",
     "text": [
      "Model: \"model\"\n",
      "_________________________________________________________________\n",
      " Layer (type)                Output Shape              Param #   \n",
      "=================================================================\n",
      " input_2 (InputLayer)        [(None, 256, 256, 3)]     0         \n",
      "                                                                 \n",
      " xception (Functional)       (None, 8, 8, 2048)        20861480  \n",
      "                                                                 \n",
      " global_average_pooling2d (G  (None, 2048)             0         \n",
      " lobalAveragePooling2D)                                          \n",
      "                                                                 \n",
      " dense (Dense)               (None, 1)                 2049      \n",
      "                                                                 \n",
      "=================================================================\n",
      "Total params: 20,863,529\n",
      "Trainable params: 2,049\n",
      "Non-trainable params: 20,861,480\n",
      "_________________________________________________________________\n",
      "None\n"
     ]
    }
   ],
   "source": [
    "print(model.summary())"
   ]
  },
  {
   "cell_type": "code",
   "execution_count": 9,
   "id": "81400399-3871-4b8f-a8b0-2eae6cf3483f",
   "metadata": {},
   "outputs": [
    {
     "name": "stdout",
     "output_type": "stream",
     "text": [
      "Epoch 1/10\n",
      "7/7 [==============================] - 81s 10s/step - loss: 0.6487 - accuracy: 0.6295 - val_loss: 0.6450 - val_accuracy: 0.6023\n",
      "Epoch 2/10\n",
      "7/7 [==============================] - 46s 7s/step - loss: 0.5996 - accuracy: 0.6161 - val_loss: 0.5710 - val_accuracy: 0.6100\n",
      "Epoch 3/10\n",
      "7/7 [==============================] - 47s 7s/step - loss: 0.5371 - accuracy: 0.6786 - val_loss: 0.5445 - val_accuracy: 0.6950\n",
      "Epoch 4/10\n",
      "7/7 [==============================] - 42s 6s/step - loss: 0.5312 - accuracy: 0.7033 - val_loss: 0.5256 - val_accuracy: 0.7259\n",
      "Epoch 5/10\n",
      "7/7 [==============================] - 44s 7s/step - loss: 0.4814 - accuracy: 0.7902 - val_loss: 0.5092 - val_accuracy: 0.7490\n",
      "Epoch 6/10\n",
      "7/7 [==============================] - 47s 7s/step - loss: 0.4881 - accuracy: 0.7812 - val_loss: 0.5006 - val_accuracy: 0.7413\n",
      "Epoch 7/10\n",
      "7/7 [==============================] - 42s 7s/step - loss: 0.4907 - accuracy: 0.7411 - val_loss: 0.4871 - val_accuracy: 0.7297\n",
      "Epoch 8/10\n",
      "7/7 [==============================] - 37s 6s/step - loss: 0.4535 - accuracy: 0.7608 - val_loss: 0.4785 - val_accuracy: 0.7336\n",
      "Epoch 9/10\n",
      "7/7 [==============================] - 37s 6s/step - loss: 0.4596 - accuracy: 0.7411 - val_loss: 0.4585 - val_accuracy: 0.7683\n",
      "Epoch 10/10\n",
      "7/7 [==============================] - 37s 6s/step - loss: 0.4357 - accuracy: 0.7679 - val_loss: 0.4610 - val_accuracy: 0.7259\n"
     ]
    },
    {
     "data": {
      "text/plain": [
       "<keras.callbacks.History at 0x7fc0203b9100>"
      ]
     },
     "execution_count": 9,
     "metadata": {},
     "output_type": "execute_result"
    }
   ],
   "source": [
    "model.fit(\n",
    "    train,\n",
    "    epochs=10,\n",
    "    steps_per_epoch=7,\n",
    "    validation_data=test,\n",
    "    validation_steps=len(test),\n",
    ")"
   ]
  },
  {
   "cell_type": "code",
   "execution_count": 10,
   "id": "58cd6979-02fc-4bc6-b7d4-bb096577c759",
   "metadata": {},
   "outputs": [
    {
     "name": "stdout",
     "output_type": "stream",
     "text": [
      "dict_keys(['loss', 'accuracy', 'val_loss', 'val_accuracy'])\n"
     ]
    }
   ],
   "source": [
    "print(model.history.history.keys())"
   ]
  },
  {
   "cell_type": "code",
   "execution_count": 11,
   "id": "621a0354-0605-4c78-83bd-a861e517e748",
   "metadata": {},
   "outputs": [
    {
     "data": {
      "image/png": "[encoded data removed]",
      "text/plain": [
       "<Figure size 576x288 with 1 Axes>"
      ]
     },
     "metadata": {
      "needs_background": "light"
     },
     "output_type": "display_data"
    },
    {
     "data": {
      "image/png": "[encoded data removed]",
      "text/plain": [
       "<Figure size 576x288 with 1 Axes>"
      ]
     },
     "metadata": {
      "needs_background": "light"
     },
     "output_type": "display_data"
    }
   ],
   "source": [
    "# plot loss\n",
    "plt.subplots(figsize=(8, 4))\n",
    "X = range(1, 1 + len(model.history.epoch))\n",
    "plt.plot(model.history.history[\"loss\"])\n",
    "plt.plot(model.history.history[\"val_loss\"])\n",
    "plt.title(\"Loss\", fontsize=20)\n",
    "plt.xlabel(\"Epochs\")\n",
    "plt.ylabel(\"Metrics\")\n",
    "plt.legend(labels=[\"train_loss\", \"val_loss\"])\n",
    "plt.show()\n",
    "\n",
    "# plot accuracy\n",
    "plt.subplots(figsize=(8, 4))\n",
    "plt.plot(model.history.history[\"accuracy\"])\n",
    "plt.plot(model.history.history[\"val_accuracy\"])\n",
    "plt.title(\"Accuracy\", fontsize=20)\n",
    "plt.xlabel(\"Epochs\")\n",
    "plt.ylabel(\"Metrics\")\n",
    "plt.ylim(0, 1)\n",
    "plt.legend(labels=[\"train_accuracy\", \"val_accuracy\"])\n",
    "plt.show()"
   ]
  },
  {
   "cell_type": "markdown",
   "id": "651cf63f",
   "metadata": {},
   "source": [
    "Ideas of possible variations to see how performance changes:\n",
    "- try using data augmentation\n",
    "- try using fine-tuning\n",
    "- try other pretrained models (resnet, mobilenet)\n",
    "- try a lower number of input images \n",
    "\n",
    "\n"
   ]
  },
  {
   "cell_type": "markdown",
   "id": "7f24a8b1",
   "metadata": {},
   "source": [
    "Alternative idea: if we don't want to use transfer learning, we can also use raw classifications from the pre-trained model as a proxy metric to ok/defect"
   ]
  },
  {
   "cell_type": "code",
   "execution_count": 12,
   "id": "9e51bc3c-426e-44d4-91b5-95e9adad0bed",
   "metadata": {},
   "outputs": [
    {
     "name": "stdout",
     "output_type": "stream",
     "text": [
      "1/1 [==============================] - 1s 938ms/step\n",
      "Predicted: [('n03843555', 'oil_filter', 0.31126547), ('n04553703', 'washbasin', 0.22433704), ('n04019541', 'puck', 0.09062061)]\n"
     ]
    },
    {
     "ename": "",
     "evalue": "",
     "output_type": "error",
     "traceback": [
      "\u001b[1;31mLe Kernel s’est bloqué lors de l’exécution du code dans la cellule active ou une cellule précédente. Veuillez vérifier le code dans la ou les cellules pour identifier une cause possible de l’échec. Cliquez <a href='https://aka.ms/vscodeJupyterKernelCrash'>ici</a> pour plus d’informations. Pour plus d’informations, consultez Jupyter <a href='command:jupyter.viewOutput'>log</a>."
     ]
    }
   ],
   "source": [
    "# Incomplete code, To finish - zero-shot prediction on all images to see what comes out\n",
    "from tensorflow.keras.preprocessing import image\n",
    "from tensorflow.keras.applications.xception import preprocess_input, decode_predictions\n",
    "import numpy as np\n",
    "\n",
    "model = Xception(input_shape=(299, 299, 3), weights=\"imagenet\")\n",
    "\n",
    "img_path = \"casting_512x512/ok_front/cast_ok_0_1018.jpeg\"\n",
    "# img_path = 'casting_512x512/def_front/cast_def_0_0.jpeg'\n",
    "img = image.load_img(img_path, target_size=(299, 299))\n",
    "x = image.img_to_array(img)\n",
    "x = np.expand_dims(x, axis=0)\n",
    "x = preprocess_input(x)\n",
    "\n",
    "preds = model.predict(x)\n",
    "# decode the results into a list of tuples (class, description, probability)\n",
    "# (one such list for each sample in the batch)\n",
    "print(\"Predicted:\", decode_predictions(preds, top=3)[0])"
   ]
  }
 ],
 "metadata": {
  "kernelspec": {
   "display_name": "Python 3.9.12 ('221203_enseirb')",
   "language": "python",
   "name": "python3"
  },
  "language_info": {
   "codemirror_mode": {
    "name": "ipython",
    "version": 3
   },
   "file_extension": ".py",
   "mimetype": "text/x-python",
   "name": "python",
   "nbconvert_exporter": "python",
   "pygments_lexer": "ipython3",
   "version": "3.9.12"
  },
  "vscode": {
   "interpreter": {
    "hash": "f1bdddd1d8990c582a540f1829bbc6bdd94158ecb0a1111c2e392c9151ffaf16"
   }
  }
 },
 "nbformat": 4,
 "nbformat_minor": 5
}
