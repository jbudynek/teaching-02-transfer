{
 "cells": [
  {
   "cell_type": "markdown",
   "id": "82f7f052",
   "metadata": {},
   "source": [
    "This notebook is an illustration of transfer learning. It uses:\n",
    "- a pre-trained Model from Keras (Xception)\n",
    "- a dataset of casting products, some of which have a defect\n",
    "Then it adds a simple classification layer to the pre-trained model, and trains it with the pictures.\n",
    "\n",
    "The code is adapted from: \n",
    "- Keras tutorial https://keras.io/guides/transfer_learning/\n",
    "- Kaggle tutorial https://www.kaggle.com/code/digantdixit/transfer-learning-cnn-for-beginners"
   ]
  },
  {
   "cell_type": "code",
   "execution_count": 1,
   "id": "eb339a56-2fd9-446c-ae8d-cbeec6b97d3c",
   "metadata": {},
   "outputs": [],
   "source": [
    "import numpy as np\n",
    "import pandas as pd\n",
    "import matplotlib.pyplot as plt\n",
    "import keras, os\n",
    "from keras.layers import Conv2D, MaxPool2D, Dropout, Flatten, Dense\n",
    "from keras.preprocessing import image\n",
    "from keras.models import Sequential"
   ]
  },
  {
   "cell_type": "code",
   "execution_count": null,
   "id": "d433c407-e59a-4190-9bb2-c925fe369397",
   "metadata": {},
   "outputs": [],
   "source": [
    "# Load your train and test set by using keras.preprocessing.image.ImageDataGenerator\n",
    "# think about rescaling and splitting"
   ]
  },
  {
   "cell_type": "code",
   "execution_count": 5,
   "id": "a3ace5a9-7731-4c38-8ee5-bb9a211a0fe3",
   "metadata": {},
   "outputs": [],
   "source": [
    "# Load a pretrained model from Keras, for example Xception\n",
    "# think about values of 'input_shape', 'weights', and 'include_top'\n",
    "xcept = ..."
   ]
  },
  {
   "cell_type": "code",
   "execution_count": 7,
   "id": "03acf809-387b-4542-9f8f-887b426a07cf",
   "metadata": {},
   "outputs": [],
   "source": [
    "# Use the code from  Keras transfer learning tutorial\n",
    "# https://keras.io/guides/transfer_learning/\n",
    "# Adapt it to your case\n",
    "# Freeze weights\n",
    "# Replace last layer with a 2-class classifier\n",
    "# Compile it\n",
    "...\n",
    "inputs = ...\n",
    "outputs = ...\n",
    "model = keras.Model(inputs, outputs)\n",
    "model.compile(...)"
   ]
  },
  {
   "cell_type": "code",
   "execution_count": null,
   "id": "dea8fcc5-4e26-49f8-bc07-8ec2d90e8739",
   "metadata": {},
   "outputs": [],
   "source": [
    "# print model summary\n",
    "print(model.summary())"
   ]
  },
  {
   "cell_type": "code",
   "execution_count": null,
   "id": "81400399-3871-4b8f-a8b0-2eae6cf3483f",
   "metadata": {},
   "outputs": [],
   "source": [
    "# Fit your model for a gew epochs using 'train' data and 'test' validation data\n",
    "model.fit(...)"
   ]
  },
  {
   "cell_type": "code",
   "execution_count": null,
   "id": "621a0354-0605-4c78-83bd-a861e517e748",
   "metadata": {},
   "outputs": [],
   "source": [
    "# plot loss and  accuracy as a function of epochs\n",
    "# plot the result of some predictions. Plot some false positives."
   ]
  },
  {
   "cell_type": "code",
   "execution_count": null,
   "id": "4c2e49a0",
   "metadata": {},
   "outputs": [],
   "source": [
    "# Turn your code into functions easy to call, so that you can try\n",
    "# multiple parameters and make a table with different scenarios"
   ]
  },
  {
   "cell_type": "markdown",
   "id": "651cf63f",
   "metadata": {},
   "source": [
    "Ideas of possible variations to see how performance changes:\n",
    "- With different kinds of image classification models\n",
    "- With or without data augmentation\n",
    "- With a different number of input pictures\n",
    "\n",
    "Possible output:\n",
    "|Scenario|Type&puncsp;of&puncsp;model|Data&puncsp;augmentation|Number&puncsp;of&puncsp;training&puncsp;images|Number&puncsp;of&puncsp;test&puncsp;images|Training&puncsp;accuracy|Testing&puncsp;accuracy|Training&puncsp;duration|\n",
    "|-|-|-|-|-|-|-|-|\n",
    "|1..n|Xception,&puncsp;MobileNet,&puncsp;ResNet,&puncsp;...|y/n|5%&puncsp;10%&puncsp;50%&puncsp;80%&puncsp;of&puncsp;total|||||\n",
    "\n",
    "Other ideas: \n",
    "- if we don't want to use transfer learning, we can also use raw classifications from the pre-trained model as a proxy metric to ok/defect\n",
    "- You can look into explainability for computer vision algorithms\n",
    "- Try large multimodal models\n"
   ]
  },
  {
   "cell_type": "markdown",
   "id": "7f24a8b1",
   "metadata": {},
   "source": []
  }
 ],
 "metadata": {
  "kernelspec": {
   "display_name": "Python 3.9.12 ('221203_enseirb')",
   "language": "python",
   "name": "python3"
  },
  "language_info": {
   "codemirror_mode": {
    "name": "ipython",
    "version": 3
   },
   "file_extension": ".py",
   "mimetype": "text/x-python",
   "name": "python",
   "nbconvert_exporter": "python",
   "pygments_lexer": "ipython3",
   "version": "3.9.12"
  },
  "vscode": {
   "interpreter": {
    "hash": "f1bdddd1d8990c582a540f1829bbc6bdd94158ecb0a1111c2e392c9151ffaf16"
   }
  }
 },
 "nbformat": 4,
 "nbformat_minor": 5
}
